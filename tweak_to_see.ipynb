{
  "nbformat": 4,
  "nbformat_minor": 0,
  "metadata": {
    "colab": {
      "name": "tweak to see",
      "provenance": [],
      "authorship_tag": "ABX9TyNnVkg4/HsC9vsttHnRl6SP",
      "include_colab_link": true
    },
    "kernelspec": {
      "name": "python3",
      "display_name": "Python 3"
    }
  },
  "cells": [
    {
      "cell_type": "markdown",
      "metadata": {
        "id": "view-in-github",
        "colab_type": "text"
      },
      "source": [
        "<a href=\"https://colab.research.google.com/github/ngonam2403/VEF-Final-Project_202007/blob/master/tweak_to_see.ipynb\" target=\"_parent\"><img src=\"https://colab.research.google.com/assets/colab-badge.svg\" alt=\"Open In Colab\"/></a>"
      ]
    },
    {
      "cell_type": "code",
      "metadata": {
        "id": "U4r1xxAc4535",
        "colab_type": "code",
        "colab": {}
      },
      "source": [
        "def run_flow(train_X, train_y, algorithm_choice = None):\n",
        "    X_train,X_test,y_train,y_test=train_test_split(\n",
        "                                            train_X,\n",
        "                                            train_y,\n",
        "                                            test_size=0.25,\n",
        "                                            random_state=0)\n",
        "    # def train_model(train_X, train_Y, algorithm_choice):\n",
        "    algorithm_choice.fit(X_train,y_train)\n",
        "    predictions = algorithm_choice.predict(X_test)\n",
        "    # def evaluate_model()\n",
        "    df_confusion_matrix = metrics.confusion_matrix(y_test, predictions) \n",
        "    f1_score =  metrics.f1_score(predictions,y_test, average = 'weighted')\n",
        "    #\n",
        "    print(df_confusion_matrix)\n",
        "    print(f1_score)"
      ],
      "execution_count": null,
      "outputs": []
    },
    {
      "cell_type": "code",
      "metadata": {
        "id": "0-94CxGW5mkQ",
        "colab_type": "code",
        "colab": {
          "base_uri": "https://localhost:8080/",
          "height": 456
        },
        "outputId": "50aa40a7-0f5c-4751-9efd-465d888c6d61"
      },
      "source": [
        "create_environment()\n",
        "preprocess_data()\n",
        "print_object_status(train_labels)\n",
        "print_object_status(X_train_imputed_scaled)"
      ],
      "execution_count": null,
      "outputs": [
        {
          "output_type": "stream",
          "text": [
            "Go to this URL in a browser: https://accounts.google.com/o/oauth2/auth?client_id=947318989803-6bn6qk8qdgf4n4g3pfee6491hc0brc4i.apps.googleusercontent.com&redirect_uri=urn%3aietf%3awg%3aoauth%3a2.0%3aoob&scope=email%20https%3a%2f%2fwww.googleapis.com%2fauth%2fdocs.test%20https%3a%2f%2fwww.googleapis.com%2fauth%2fdrive%20https%3a%2f%2fwww.googleapis.com%2fauth%2fdrive.photos.readonly%20https%3a%2f%2fwww.googleapis.com%2fauth%2fpeopleapi.readonly&response_type=code\n",
            "\n",
            "Enter your authorization code:\n",
            "··········\n",
            "Mounted at /content/gdrive\n",
            "Environment Done!\n"
          ],
          "name": "stdout"
        },
        {
          "output_type": "error",
          "ename": "NameError",
          "evalue": "ignored",
          "traceback": [
            "\u001b[0;31m---------------------------------------------------------------------------\u001b[0m",
            "\u001b[0;31mNameError\u001b[0m                                 Traceback (most recent call last)",
            "\u001b[0;32m<ipython-input-5-09f7580b0532>\u001b[0m in \u001b[0;36m<module>\u001b[0;34m()\u001b[0m\n\u001b[1;32m      1\u001b[0m \u001b[0mcreate_environment\u001b[0m\u001b[0;34m(\u001b[0m\u001b[0;34m)\u001b[0m\u001b[0;34m\u001b[0m\u001b[0;34m\u001b[0m\u001b[0m\n\u001b[0;32m----> 2\u001b[0;31m \u001b[0mpreprocess_data\u001b[0m\u001b[0;34m(\u001b[0m\u001b[0;34m)\u001b[0m\u001b[0;34m\u001b[0m\u001b[0;34m\u001b[0m\u001b[0m\n\u001b[0m\u001b[1;32m      3\u001b[0m \u001b[0mprint_object_status\u001b[0m\u001b[0;34m(\u001b[0m\u001b[0mtrain_labels\u001b[0m\u001b[0;34m)\u001b[0m\u001b[0;34m\u001b[0m\u001b[0;34m\u001b[0m\u001b[0m\n\u001b[1;32m      4\u001b[0m \u001b[0mprint_object_status\u001b[0m\u001b[0;34m(\u001b[0m\u001b[0mX_train_imputed_scaled\u001b[0m\u001b[0;34m)\u001b[0m\u001b[0;34m\u001b[0m\u001b[0;34m\u001b[0m\u001b[0m\n",
            "\u001b[0;32m<ipython-input-4-adfbecaa02ee>\u001b[0m in \u001b[0;36mpreprocess_data\u001b[0;34m()\u001b[0m\n\u001b[1;32m     34\u001b[0m \u001b[0;32mdef\u001b[0m \u001b[0mpreprocess_data\u001b[0m\u001b[0;34m(\u001b[0m\u001b[0;34m)\u001b[0m\u001b[0;34m:\u001b[0m\u001b[0;34m\u001b[0m\u001b[0;34m\u001b[0m\u001b[0m\n\u001b[1;32m     35\u001b[0m     \u001b[0;31m# import data\u001b[0m\u001b[0;34m\u001b[0m\u001b[0;34m\u001b[0m\u001b[0;34m\u001b[0m\u001b[0m\n\u001b[0;32m---> 36\u001b[0;31m     \u001b[0mapp_train\u001b[0m \u001b[0;34m=\u001b[0m \u001b[0mpd\u001b[0m\u001b[0;34m.\u001b[0m\u001b[0mread_csv\u001b[0m\u001b[0;34m(\u001b[0m\u001b[0;34m'application_train.csv'\u001b[0m\u001b[0;34m)\u001b[0m\u001b[0;34m\u001b[0m\u001b[0;34m\u001b[0m\u001b[0m\n\u001b[0m\u001b[1;32m     37\u001b[0m     \u001b[0;31m# clean data (encode, impute, dummy)\u001b[0m\u001b[0;34m\u001b[0m\u001b[0;34m\u001b[0m\u001b[0;34m\u001b[0m\u001b[0m\n\u001b[1;32m     38\u001b[0m     \u001b[0;31m## Create a label encoder object\u001b[0m\u001b[0;34m\u001b[0m\u001b[0;34m\u001b[0m\u001b[0;34m\u001b[0m\u001b[0m\n",
            "\u001b[0;31mNameError\u001b[0m: name 'pd' is not defined"
          ]
        }
      ]
    },
    {
      "cell_type": "code",
      "metadata": {
        "id": "-FWxCqA65yYw",
        "colab_type": "code",
        "colab": {
          "base_uri": "https://localhost:8080/",
          "height": 72
        },
        "outputId": "28791c78-f6a0-4ed3-a0f9-f3251c9548df"
      },
      "source": [
        "import os\n",
        "os.getcwd()\n",
        "from google.colab import drive \n",
        "drive.mount('/content/gdrive')\n",
        "#chuyển về thư mục data bên trong Google Drive.\n",
        "os.chdir('/content/gdrive/My Drive/Colab Notebooks/data')\n",
        "#trong thư mục data này, ta để sẵn các file dữ liệu mà google colab sẽ gọi vào.\n",
        "os.listdir()\n",
        "# numpy and pandas for data manipulation\n",
        "import numpy as np\n",
        "import pandas as pd \n",
        "# sklearn preprocessing for dealing with categorical variables\n",
        "from sklearn.preprocessing import LabelEncoder\n",
        "from sklearn.impute import SimpleImputer as Imputer\n",
        "from sklearn.preprocessing import MinMaxScaler \n",
        "from sklearn.model_selection import train_test_split\n",
        "from sklearn.linear_model import LogisticRegression\n",
        "from sklearn import metrics\n",
        "# Suppress warnings \n",
        "import warnings\n",
        "warnings.filterwarnings('ignore')\n",
        "# matplotlib and seaborn for plotting\n",
        "import matplotlib.pyplot as plt\n",
        "import seaborn as sns\n",
        "#\n",
        "print('Environment Done!')"
      ],
      "execution_count": 2,
      "outputs": [
        {
          "output_type": "stream",
          "text": [
            "Drive already mounted at /content/gdrive; to attempt to forcibly remount, call drive.mount(\"/content/gdrive\", force_remount=True).\n",
            "Environment Done!\n"
          ],
          "name": "stdout"
        }
      ]
    },
    {
      "cell_type": "code",
      "metadata": {
        "id": "seGhbOgx7Sq2",
        "colab_type": "code",
        "colab": {}
      },
      "source": [
        "# import data \n",
        "app_train = pd.read_csv('application_train.csv')\n",
        "\n",
        "#\n",
        "list_features_top3 = ['TARGET','EXT_SOURCE_2','EXT_SOURCE_1']\n",
        "app_train = app_train[list_features_top3]\n",
        "\n",
        "# clean data (encode, impute, dummy)\n",
        "## Create a label encoder object\n",
        "le = LabelEncoder()\n",
        "le_count = 0\n",
        "# Iterate through the columns\n",
        "for col in app_train:\n",
        "    if app_train[col].dtype == 'object':\n",
        "        # If 2 or fewer unique categories\n",
        "        if len(list(app_train[col].unique())) <= 2:\n",
        "            # Train on the training data\n",
        "            le.fit(app_train[col])\n",
        "            # Transform both training and testing data\n",
        "            app_train[col] = le.transform(app_train[col])                \n",
        "            # Keep track of how many columns were label encoded\n",
        "            le_count += 1\n",
        "# one-hot encoding of categorical variables\n",
        "app_train = pd.get_dummies(app_train)\n",
        "\n",
        "if 'TARGET' in app_train:\n",
        "    train = app_train.drop(columns = ['TARGET'])\n",
        "else:\n",
        "    train = app_train.copy()    \n",
        "\n",
        "imputer = Imputer(strategy = 'median')\n",
        "scaler = MinMaxScaler(feature_range = (0, 1))\n",
        "imputer.fit(train)\n",
        "train_imputed = imputer.transform(train)\n",
        "\n",
        "scaler.fit(train_imputed)\n",
        "X_train_imputed_scaled = scaler.transform(train_imputed)\n",
        "\n",
        "train_labels = app_train['TARGET']\n",
        "#\n",
        "# return train_labels, X_train_imputed_scaled"
      ],
      "execution_count": null,
      "outputs": []
    },
    {
      "cell_type": "code",
      "metadata": {
        "id": "kDL6_yOQ7VHC",
        "colab_type": "code",
        "colab": {
          "base_uri": "https://localhost:8080/",
          "height": 85
        },
        "outputId": "0e13dce8-0d13-4c85-f8c3-f299f852f721"
      },
      "source": [
        "print_object_status(train_labels)\n",
        "print_object_status(X_train_imputed_scaled)"
      ],
      "execution_count": null,
      "outputs": [
        {
          "output_type": "stream",
          "text": [
            "(307511,)\n",
            "<class 'pandas.core.series.Series'>\n",
            "(307511, 1)\n",
            "<class 'numpy.ndarray'>\n"
          ],
          "name": "stdout"
        }
      ]
    },
    {
      "cell_type": "code",
      "metadata": {
        "id": "LYs0EWG67d-R",
        "colab_type": "code",
        "colab": {
          "base_uri": "https://localhost:8080/",
          "height": 68
        },
        "outputId": "135e33b8-bda2-4a00-e330-578ca43ee36a"
      },
      "source": [
        "# list_features_top3 = ['EXT_SOURCE_3','EXT_SOURCE_2','EXT_SOURCE_1']\n",
        "log_reg = LogisticRegression(C = 0.0001)\n",
        "run_flow(train_X=X_train_imputed_scaled, train_y=train_labels, algorithm_choice = log_reg)"
      ],
      "execution_count": null,
      "outputs": [
        {
          "output_type": "stream",
          "text": [
            "[[70787     0]\n",
            " [ 6091     0]]\n",
            "0.9587512274404905\n"
          ],
          "name": "stdout"
        }
      ]
    },
    {
      "cell_type": "code",
      "metadata": {
        "id": "8A7Pa5CN_6PJ",
        "colab_type": "code",
        "colab": {
          "base_uri": "https://localhost:8080/",
          "height": 68
        },
        "outputId": "e3539029-d824-45ec-cadf-b3e617daf6ea"
      },
      "source": [
        "from sklearn.ensemble import RandomForestClassifier\n",
        "rf = RandomForestClassifier()\n",
        "run_flow(train_X=X_train_imputed_scaled, train_y=train_labels, algorithm_choice = rf)"
      ],
      "execution_count": null,
      "outputs": [
        {
          "output_type": "stream",
          "text": [
            "[[68312  2475]\n",
            " [ 5683   408]]\n",
            "0.9116752397255505\n"
          ],
          "name": "stdout"
        }
      ]
    },
    {
      "cell_type": "markdown",
      "metadata": {
        "id": "mRYO7BU3bcQf",
        "colab_type": "text"
      },
      "source": [
        "#try1\n",
        "\n",
        "https://www.kaggle.com/adamsfei/knn-on-application-train-pca-for-ensembling"
      ]
    },
    {
      "cell_type": "code",
      "metadata": {
        "id": "igP1Op5pbdwU",
        "colab_type": "code",
        "colab": {
          "base_uri": "https://localhost:8080/",
          "height": 52
        },
        "outputId": "9797ec51-3382-4413-d6f5-677ea317d432"
      },
      "source": [
        "from sklearn.decomposition import PCA\n",
        "from sklearn.preprocessing import StandardScaler\n",
        "# import data \n",
        "app_train = pd.read_csv('application_train.csv')\n",
        "\n",
        "selected_features = ['AMT_INCOME_TOTAL', 'AMT_ANNUITY', 'AMT_CREDIT', 'AMT_GOODS_PRICE', \n",
        "                     'TARGET', 'EXT_SOURCE_1', 'EXT_SOURCE_2','EXT_SOURCE_3']\n",
        "train_df_ltd = app_train[selected_features]\n",
        "y = train_df_ltd['TARGET']\n",
        "del train_df_ltd['TARGET']\n",
        "\n",
        "#let's add one feature that we know performs very well\n",
        "train_df_ltd['ann_nr'] = train_df_ltd['AMT_CREDIT']/train_df_ltd['AMT_ANNUITY']\n",
        "\n",
        "pca = PCA()\n",
        "standard_scaler = StandardScaler() \n",
        "train_scaled = standard_scaler.fit_transform(train_df_ltd.fillna(-1))\n",
        "pca.fit(train_scaled)"
      ],
      "execution_count": 3,
      "outputs": [
        {
          "output_type": "execute_result",
          "data": {
            "text/plain": [
              "PCA(copy=True, iterated_power='auto', n_components=None, random_state=None,\n",
              "    svd_solver='auto', tol=0.0, whiten=False)"
            ]
          },
          "metadata": {
            "tags": []
          },
          "execution_count": 3
        }
      ]
    },
    {
      "cell_type": "code",
      "metadata": {
        "id": "rNu83X_Hb_qM",
        "colab_type": "code",
        "colab": {
          "base_uri": "https://localhost:8080/",
          "height": 52
        },
        "outputId": "0831b649-38c5-4bce-aab4-067bd30b6b29"
      },
      "source": [
        "pca.explained_variance_"
      ],
      "execution_count": 4,
      "outputs": [
        {
          "output_type": "execute_result",
          "data": {
            "text/plain": [
              "array([3.11483194, 1.10999561, 1.03806276, 0.95480371, 0.90376859,\n",
              "       0.80456935, 0.06219422, 0.01179984])"
            ]
          },
          "metadata": {
            "tags": []
          },
          "execution_count": 4
        }
      ]
    },
    {
      "cell_type": "code",
      "metadata": {
        "id": "RSwDZnl4cFwE",
        "colab_type": "code",
        "colab": {
          "base_uri": "https://localhost:8080/",
          "height": 34
        },
        "outputId": "bb0c11ad-0863-43a8-d59c-d92b331d0af3"
      },
      "source": [
        "transformed = pca.transform(train_scaled)\n",
        "ans = pd.DataFrame(transformed, columns = ['pca_1','pca_2','pca_3','pca_4','pca_5','pca_6', 'pca_7', 'pca_8'])\n",
        "ans['target'] = y\n",
        "print('the application train subset projected into the calculated components has the shape of: {}'.format(transformed.shape))"
      ],
      "execution_count": 5,
      "outputs": [
        {
          "output_type": "stream",
          "text": [
            "the application train subset projected into the calculated components has the shape of: (307511, 8)\n"
          ],
          "name": "stdout"
        }
      ]
    },
    {
      "cell_type": "code",
      "metadata": {
        "id": "bkKsNLSWcveF",
        "colab_type": "code",
        "colab": {}
      },
      "source": [
        "from sklearn.neighbors import KNeighborsRegressor\n",
        "from sklearn.metrics import roc_auc_score\n",
        "from sklearn.model_selection import train_test_split\n",
        "from sklearn.model_selection import StratifiedKFold"
      ],
      "execution_count": 6,
      "outputs": []
    },
    {
      "cell_type": "code",
      "metadata": {
        "id": "e7kox48Lcy30",
        "colab_type": "code",
        "colab": {}
      },
      "source": [
        "# plt.plot(np.linspace(10, 150, 8, dtype=int), knn_scores)"
      ],
      "execution_count": null,
      "outputs": []
    },
    {
      "cell_type": "code",
      "metadata": {
        "id": "tXqSwTsNc0_0",
        "colab_type": "code",
        "colab": {
          "base_uri": "https://localhost:8080/",
          "height": 442
        },
        "outputId": "c61639f8-6b73-47ec-f008-97e6494f714e"
      },
      "source": [
        "# test_scaled = standard_scaler.transform(test_df_ltd.fillna(-1))\n",
        "# test_pca = pca.transform(test_scaled)\n",
        "\n",
        "X_train,X_test,y_train,y_test=train_test_split(\n",
        "                                        ans.drop(['target'], axis=1), #train_imputed_scaled,\n",
        "                                        y, #train_labels,\n",
        "                                        test_size=0.25,\n",
        "                                        random_state=0)\n",
        "\n",
        "model = KNeighborsRegressor(n_neighbors=150, weights='distance')\n",
        "model.fit(X_train, y_train) # clf.fit(ans.drop(['target'], axis=1), y)\n",
        "predictions = model.predict(X_test)\n",
        "\n",
        "print (\"Algorithm setting: \", model)\n",
        "\n",
        "###\n",
        "df_confusion_matrix = metrics.confusion_matrix(y_test, predictions) \n",
        "print(\"Confusion Matrix : \\n\", df_confusion_matrix) \n",
        "###\n",
        "print (\"Accuracy score: \", metrics.accuracy_score(predictions,y_test))\n",
        "print (\"Precision score: \", metrics.precision_score(predictions,y_test))\n",
        "print (\"Recall score: \", metrics.recall_score(predictions,y_test))\n",
        "print (\"F1 score: \", metrics.f1_score(predictions,y_test, average = 'weighted'))\n",
        "print (\"ROC AUC score: \", metrics.roc_auc_score(predictions, y_test))"
      ],
      "execution_count": 11,
      "outputs": [
        {
          "output_type": "stream",
          "text": [
            "Algorithm setting:  KNeighborsRegressor(algorithm='auto', leaf_size=30, metric='minkowski',\n",
            "                    metric_params=None, n_jobs=None, n_neighbors=150, p=2,\n",
            "                    weights='distance')\n"
          ],
          "name": "stdout"
        },
        {
          "output_type": "error",
          "ename": "ValueError",
          "evalue": "ignored",
          "traceback": [
            "\u001b[0;31m---------------------------------------------------------------------------\u001b[0m",
            "\u001b[0;31mValueError\u001b[0m                                Traceback (most recent call last)",
            "\u001b[0;32m<ipython-input-11-89b7756666db>\u001b[0m in \u001b[0;36m<module>\u001b[0;34m()\u001b[0m\n\u001b[1;32m     15\u001b[0m \u001b[0;34m\u001b[0m\u001b[0m\n\u001b[1;32m     16\u001b[0m \u001b[0;31m###\u001b[0m\u001b[0;34m\u001b[0m\u001b[0;34m\u001b[0m\u001b[0;34m\u001b[0m\u001b[0m\n\u001b[0;32m---> 17\u001b[0;31m \u001b[0mdf_confusion_matrix\u001b[0m \u001b[0;34m=\u001b[0m \u001b[0mmetrics\u001b[0m\u001b[0;34m.\u001b[0m\u001b[0mconfusion_matrix\u001b[0m\u001b[0;34m(\u001b[0m\u001b[0my_test\u001b[0m\u001b[0;34m,\u001b[0m \u001b[0mpredictions\u001b[0m\u001b[0;34m)\u001b[0m\u001b[0;34m\u001b[0m\u001b[0;34m\u001b[0m\u001b[0m\n\u001b[0m\u001b[1;32m     18\u001b[0m \u001b[0mprint\u001b[0m\u001b[0;34m(\u001b[0m\u001b[0;34m\"Confusion Matrix : \\n\"\u001b[0m\u001b[0;34m,\u001b[0m \u001b[0mdf_confusion_matrix\u001b[0m\u001b[0;34m)\u001b[0m\u001b[0;34m\u001b[0m\u001b[0;34m\u001b[0m\u001b[0m\n\u001b[1;32m     19\u001b[0m \u001b[0;31m###\u001b[0m\u001b[0;34m\u001b[0m\u001b[0;34m\u001b[0m\u001b[0;34m\u001b[0m\u001b[0m\n",
            "\u001b[0;32m/usr/local/lib/python3.6/dist-packages/sklearn/metrics/_classification.py\u001b[0m in \u001b[0;36mconfusion_matrix\u001b[0;34m(y_true, y_pred, labels, sample_weight, normalize)\u001b[0m\n\u001b[1;32m    266\u001b[0m \u001b[0;34m\u001b[0m\u001b[0m\n\u001b[1;32m    267\u001b[0m     \"\"\"\n\u001b[0;32m--> 268\u001b[0;31m     \u001b[0my_type\u001b[0m\u001b[0;34m,\u001b[0m \u001b[0my_true\u001b[0m\u001b[0;34m,\u001b[0m \u001b[0my_pred\u001b[0m \u001b[0;34m=\u001b[0m \u001b[0m_check_targets\u001b[0m\u001b[0;34m(\u001b[0m\u001b[0my_true\u001b[0m\u001b[0;34m,\u001b[0m \u001b[0my_pred\u001b[0m\u001b[0;34m)\u001b[0m\u001b[0;34m\u001b[0m\u001b[0;34m\u001b[0m\u001b[0m\n\u001b[0m\u001b[1;32m    269\u001b[0m     \u001b[0;32mif\u001b[0m \u001b[0my_type\u001b[0m \u001b[0;32mnot\u001b[0m \u001b[0;32min\u001b[0m \u001b[0;34m(\u001b[0m\u001b[0;34m\"binary\"\u001b[0m\u001b[0;34m,\u001b[0m \u001b[0;34m\"multiclass\"\u001b[0m\u001b[0;34m)\u001b[0m\u001b[0;34m:\u001b[0m\u001b[0;34m\u001b[0m\u001b[0;34m\u001b[0m\u001b[0m\n\u001b[1;32m    270\u001b[0m         \u001b[0;32mraise\u001b[0m \u001b[0mValueError\u001b[0m\u001b[0;34m(\u001b[0m\u001b[0;34m\"%s is not supported\"\u001b[0m \u001b[0;34m%\u001b[0m \u001b[0my_type\u001b[0m\u001b[0;34m)\u001b[0m\u001b[0;34m\u001b[0m\u001b[0;34m\u001b[0m\u001b[0m\n",
            "\u001b[0;32m/usr/local/lib/python3.6/dist-packages/sklearn/metrics/_classification.py\u001b[0m in \u001b[0;36m_check_targets\u001b[0;34m(y_true, y_pred)\u001b[0m\n\u001b[1;32m     88\u001b[0m     \u001b[0;32mif\u001b[0m \u001b[0mlen\u001b[0m\u001b[0;34m(\u001b[0m\u001b[0my_type\u001b[0m\u001b[0;34m)\u001b[0m \u001b[0;34m>\u001b[0m \u001b[0;36m1\u001b[0m\u001b[0;34m:\u001b[0m\u001b[0;34m\u001b[0m\u001b[0;34m\u001b[0m\u001b[0m\n\u001b[1;32m     89\u001b[0m         raise ValueError(\"Classification metrics can't handle a mix of {0} \"\n\u001b[0;32m---> 90\u001b[0;31m                          \"and {1} targets\".format(type_true, type_pred))\n\u001b[0m\u001b[1;32m     91\u001b[0m \u001b[0;34m\u001b[0m\u001b[0m\n\u001b[1;32m     92\u001b[0m     \u001b[0;31m# We can't have more than one value on y_type => The set is no more needed\u001b[0m\u001b[0;34m\u001b[0m\u001b[0;34m\u001b[0m\u001b[0;34m\u001b[0m\u001b[0m\n",
            "\u001b[0;31mValueError\u001b[0m: Classification metrics can't handle a mix of binary and continuous targets"
          ]
        }
      ]
    },
    {
      "cell_type": "code",
      "metadata": {
        "id": "7LeVpzMGju20",
        "colab_type": "code",
        "colab": {
          "base_uri": "https://localhost:8080/",
          "height": 212
        },
        "outputId": "f55a4b72-c875-455e-b05a-4bbe6d2bf51d"
      },
      "source": [
        "from sklearn.neighbors import KNeighborsClassifier\n",
        "\n",
        "X_train,X_test,y_train,y_test=train_test_split(\n",
        "                                        ans.drop(['target'], axis=1), #train_imputed_scaled,\n",
        "                                        y, #train_labels,\n",
        "                                        test_size=0.25,\n",
        "                                        random_state=0)\n",
        "\n",
        "# https://www.kaggle.com/adamsfei/knn-on-application-train-pca-for-ensembling\n",
        "# https://scikit-learn.org/stable/modules/generated/sklearn.neighbors.KNeighborsClassifier.html\n",
        "model = KNeighborsClassifier(n_neighbors=150, weights='distance') \n",
        "model.fit(X_train, y_train) # clf.fit(ans.drop(['target'], axis=1), y)\n",
        "predictions = model.predict(X_test)\n",
        "\n",
        "print (\"Algorithm setting: \", model)\n",
        "\n",
        "###\n",
        "df_confusion_matrix = metrics.confusion_matrix(y_test, predictions) \n",
        "print(\"Confusion Matrix : \\n\", df_confusion_matrix) \n",
        "###\n",
        "print (\"Accuracy score: \", metrics.accuracy_score(predictions,y_test))\n",
        "print (\"Precision score: \", metrics.precision_score(predictions,y_test))\n",
        "print (\"Recall score: \", metrics.recall_score(predictions,y_test))\n",
        "print (\"F1 score: \", metrics.f1_score(predictions,y_test, average = 'weighted'))\n",
        "print (\"ROC AUC score: \", metrics.roc_auc_score(predictions, y_test))"
      ],
      "execution_count": 15,
      "outputs": [
        {
          "output_type": "stream",
          "text": [
            "Algorithm setting:  KNeighborsClassifier(algorithm='auto', leaf_size=30, metric='minkowski',\n",
            "                     metric_params=None, n_jobs=None, n_neighbors=150, p=2,\n",
            "                     weights='distance')\n",
            "Confusion Matrix : \n",
            " [[70784     3]\n",
            " [ 6088     3]]\n",
            "Accuracy score:  0.9207705715549311\n",
            "Precision score:  0.0004925299622393696\n",
            "Recall score:  0.5\n",
            "F1 score:  0.958674801821953\n",
            "ROC AUC score:  0.710401706733271\n"
          ],
          "name": "stdout"
        }
      ]
    }
  ]
}