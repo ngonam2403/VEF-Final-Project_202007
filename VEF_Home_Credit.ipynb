{
  "nbformat": 4,
  "nbformat_minor": 0,
  "metadata": {
    "colab": {
      "name": "VEF Home Credit.ipynb",
      "provenance": [],
      "toc_visible": true,
      "authorship_tag": "ABX9TyPHNFvNiolD4Gwy1OuBr87C",
      "include_colab_link": true
    },
    "kernelspec": {
      "name": "python3",
      "display_name": "Python 3"
    }
  },
  "cells": [
    {
      "cell_type": "markdown",
      "metadata": {
        "id": "view-in-github",
        "colab_type": "text"
      },
      "source": [
        "<a href=\"https://colab.research.google.com/github/ngonam2403/test_202007/blob/master/VEF_Home_Credit.ipynb\" target=\"_parent\"><img src=\"https://colab.research.google.com/assets/colab-badge.svg\" alt=\"Open In Colab\"/></a>"
      ]
    },
    {
      "cell_type": "markdown",
      "metadata": {
        "id": "fyJRDdPftdyZ",
        "colab_type": "text"
      },
      "source": [
        "# Kiểm tra working directory ~ nơi chứa dữ liệu"
      ]
    },
    {
      "cell_type": "code",
      "metadata": {
        "id": "yF7g9i3QlPVW",
        "colab_type": "code",
        "colab": {
          "base_uri": "https://localhost:8080/",
          "height": 35
        },
        "outputId": "e9194927-9524-4de2-96a4-bcb5619a6182"
      },
      "source": [
        "import os\n",
        "os.getcwd()"
      ],
      "execution_count": null,
      "outputs": [
        {
          "output_type": "execute_result",
          "data": {
            "application/vnd.google.colaboratory.intrinsic": {
              "type": "string"
            },
            "text/plain": [
              "'/content'"
            ]
          },
          "metadata": {
            "tags": []
          },
          "execution_count": 1
        }
      ]
    },
    {
      "cell_type": "code",
      "metadata": {
        "id": "obB1VIKflvwi",
        "colab_type": "code",
        "colab": {
          "base_uri": "https://localhost:8080/",
          "height": 34
        },
        "outputId": "a1c7b984-61fb-4885-a099-da7ebd978220"
      },
      "source": [
        "os.listdir()"
      ],
      "execution_count": null,
      "outputs": [
        {
          "output_type": "execute_result",
          "data": {
            "text/plain": [
              "['.config', 'sample_data']"
            ]
          },
          "metadata": {
            "tags": []
          },
          "execution_count": 2
        }
      ]
    },
    {
      "cell_type": "markdown",
      "metadata": {
        "id": "d4SAkBTvvGQz",
        "colab_type": "text"
      },
      "source": [
        "Google Colab đang trỏ vào một thư mục nào đó mà ta không biết, bây giờ cần đưa working directory về thư mục bên trong Google Drive, mà ta thấy quen thuộc."
      ]
    },
    {
      "cell_type": "code",
      "metadata": {
        "id": "800cE4YcnijE",
        "colab_type": "code",
        "colab": {}
      },
      "source": [
        "from google.colab import drive \n",
        "drive.mount('/content/gdrive')"
      ],
      "execution_count": null,
      "outputs": []
    },
    {
      "cell_type": "code",
      "metadata": {
        "id": "se3c8lZ9nx7a",
        "colab_type": "code",
        "colab": {}
      },
      "source": [
        "#chuyển về thư mục data bên trong Google Drive.\n",
        "os.chdir('/content/gdrive/My Drive/Colab Notebooks/data')"
      ],
      "execution_count": null,
      "outputs": []
    },
    {
      "cell_type": "code",
      "metadata": {
        "id": "4NFt6ei-n-43",
        "colab_type": "code",
        "colab": {
          "base_uri": "https://localhost:8080/",
          "height": 35
        },
        "outputId": "d80ae95b-a2c0-43f2-88d5-109267ecf89f"
      },
      "source": [
        "os.getcwd()"
      ],
      "execution_count": null,
      "outputs": [
        {
          "output_type": "execute_result",
          "data": {
            "application/vnd.google.colaboratory.intrinsic": {
              "type": "string"
            },
            "text/plain": [
              "'/content/gdrive/My Drive/Colab Notebooks/data'"
            ]
          },
          "metadata": {
            "tags": []
          },
          "execution_count": 10
        }
      ]
    },
    {
      "cell_type": "code",
      "metadata": {
        "id": "fw0Sk0vGoDKz",
        "colab_type": "code",
        "colab": {
          "base_uri": "https://localhost:8080/",
          "height": 87
        },
        "outputId": "a4f9e55d-eba2-4c09-d5c7-a8ad2c0d3fbe"
      },
      "source": [
        "#trong thư mục data này, ta để sẵn các file dữ liệu mà google colab sẽ gọi vào.\n",
        "os.listdir()"
      ],
      "execution_count": 35,
      "outputs": [
        {
          "output_type": "execute_result",
          "data": {
            "text/plain": [
              "['application_train.csv',\n",
              " 'bureau.csv',\n",
              " 'application_test.csv',\n",
              " 'bureau_balance.csv']"
            ]
          },
          "metadata": {
            "tags": []
          },
          "execution_count": 35
        }
      ]
    },
    {
      "cell_type": "markdown",
      "metadata": {
        "id": "c8fxoMzGuBAL",
        "colab_type": "text"
      },
      "source": [
        "Đến hết bước này, ta đảm bảo file google colab này đang trỏ vào thư mục /gdrive/My Drive/Colab Notebooks/data để lấy dữ liệu, và nó chỉ thực hiện bên trong thư mục đó thôi. Ta để các file dữ liệu liên quan trong thư mục này: application_train, application_test..."
      ]
    },
    {
      "cell_type": "markdown",
      "metadata": {
        "id": "vqbs5fCFtqTu",
        "colab_type": "text"
      },
      "source": [
        "# Import & Read data"
      ]
    },
    {
      "cell_type": "code",
      "metadata": {
        "id": "KZ1jr1jYpPTQ",
        "colab_type": "code",
        "colab": {}
      },
      "source": [
        "import pandas as pd "
      ],
      "execution_count": null,
      "outputs": []
    },
    {
      "cell_type": "code",
      "metadata": {
        "id": "4NC95EUxpgGZ",
        "colab_type": "code",
        "colab": {}
      },
      "source": [
        "data = pd.read_csv('application_train.csv')\n",
        "#file application_train.csv đang nằm ở thư mục làm việc hiện tại, nên google colab trỏ vào dễ dàng, không lỗi."
      ],
      "execution_count": null,
      "outputs": []
    },
    {
      "cell_type": "code",
      "metadata": {
        "id": "o_88wh71qXw_",
        "colab_type": "code",
        "colab": {
          "base_uri": "https://localhost:8080/",
          "height": 34
        },
        "outputId": "7320e751-b283-4f1f-c177-cd6fa7756d6d"
      },
      "source": [
        "print('Training data shape: ', data.shape)"
      ],
      "execution_count": null,
      "outputs": [
        {
          "output_type": "stream",
          "text": [
            "Training data shape:  (307511, 122)\n"
          ],
          "name": "stdout"
        }
      ]
    },
    {
      "cell_type": "code",
      "metadata": {
        "id": "C5O52ZgZpvfg",
        "colab_type": "code",
        "colab": {
          "base_uri": "https://localhost:8080/",
          "height": 194
        },
        "outputId": "e05b7b8a-ab2a-404a-b24f-1864d207dab7"
      },
      "source": [
        "data.columns"
      ],
      "execution_count": null,
      "outputs": [
        {
          "output_type": "execute_result",
          "data": {
            "text/plain": [
              "Index(['SK_ID_CURR', 'TARGET', 'NAME_CONTRACT_TYPE', 'CODE_GENDER',\n",
              "       'FLAG_OWN_CAR', 'FLAG_OWN_REALTY', 'CNT_CHILDREN', 'AMT_INCOME_TOTAL',\n",
              "       'AMT_CREDIT', 'AMT_ANNUITY',\n",
              "       ...\n",
              "       'FLAG_DOCUMENT_18', 'FLAG_DOCUMENT_19', 'FLAG_DOCUMENT_20',\n",
              "       'FLAG_DOCUMENT_21', 'AMT_REQ_CREDIT_BUREAU_HOUR',\n",
              "       'AMT_REQ_CREDIT_BUREAU_DAY', 'AMT_REQ_CREDIT_BUREAU_WEEK',\n",
              "       'AMT_REQ_CREDIT_BUREAU_MON', 'AMT_REQ_CREDIT_BUREAU_QRT',\n",
              "       'AMT_REQ_CREDIT_BUREAU_YEAR'],\n",
              "      dtype='object', length=122)"
            ]
          },
          "metadata": {
            "tags": []
          },
          "execution_count": 17
        }
      ]
    },
    {
      "cell_type": "markdown",
      "metadata": {
        "id": "0d5iBIVhturm",
        "colab_type": "text"
      },
      "source": [
        "# EDA"
      ]
    },
    {
      "cell_type": "code",
      "metadata": {
        "id": "f3ATD0vKqByz",
        "colab_type": "code",
        "colab": {
          "base_uri": "https://localhost:8080/",
          "height": 70
        },
        "outputId": "f432ae4e-f2be-406d-cbe0-f34601e37582"
      },
      "source": [
        "data['TARGET'].value_counts()"
      ],
      "execution_count": null,
      "outputs": [
        {
          "output_type": "execute_result",
          "data": {
            "text/plain": [
              "0    282686\n",
              "1     24825\n",
              "Name: TARGET, dtype: int64"
            ]
          },
          "metadata": {
            "tags": []
          },
          "execution_count": 19
        }
      ]
    },
    {
      "cell_type": "code",
      "metadata": {
        "id": "9gHoQQ7kqsE5",
        "colab_type": "code",
        "colab": {
          "base_uri": "https://localhost:8080/",
          "height": 264
        },
        "outputId": "25c06c6c-3615-4e84-fe9b-2203f1eb1639"
      },
      "source": [
        "data['TARGET'].astype(int).plot.hist();"
      ],
      "execution_count": null,
      "outputs": [
        {
          "output_type": "display_data",
          "data": {
            "image/png": "[encoded data removed]",
            "text/plain": [
              "<Figure size 432x288 with 1 Axes>"
            ]
          },
          "metadata": {
            "tags": [],
            "needs_background": "light"
          }
        }
      ]
    },
    {
      "cell_type": "markdown",
      "metadata": {
        "id": "gejuuHjWty4O",
        "colab_type": "text"
      },
      "source": [
        "## Xem missing data"
      ]
    },
    {
      "cell_type": "code",
      "metadata": {
        "id": "p-vRj94-qwhi",
        "colab_type": "code",
        "colab": {}
      },
      "source": [
        "# Function to calculate missing values by column# Funct \n",
        "def missing_values_table(df):\n",
        "        # Total missing values\n",
        "        mis_val = df.isnull().sum()\n",
        "        \n",
        "        # Percentage of missing values\n",
        "        mis_val_percent = 100 * df.isnull().sum() / len(df)\n",
        "        \n",
        "        # Make a table with the results\n",
        "        mis_val_table = pd.concat([mis_val, mis_val_percent], axis=1)\n",
        "        \n",
        "        # Rename the columns\n",
        "        mis_val_table_ren_columns = mis_val_table.rename(\n",
        "        columns = {0 : 'Missing Values', 1 : '% of Total Values'})\n",
        "        \n",
        "        # Sort the table by percentage of missing descending\n",
        "        mis_val_table_ren_columns = mis_val_table_ren_columns[\n",
        "            mis_val_table_ren_columns.iloc[:,1] != 0].sort_values(\n",
        "        '% of Total Values', ascending=False).round(1)\n",
        "        \n",
        "        # Print some summary information\n",
        "        print (\"Your selected dataframe has \" + str(df.shape[1]) + \" columns.\\n\"      \n",
        "            \"There are \" + str(mis_val_table_ren_columns.shape[0]) +\n",
        "              \" columns that have missing values.\")\n",
        "        \n",
        "        # Return the dataframe with missing information\n",
        "        return mis_val_table_ren_columns"
      ],
      "execution_count": null,
      "outputs": []
    },
    {
      "cell_type": "code",
      "metadata": {
        "id": "c5lkSDjbqz9p",
        "colab_type": "code",
        "colab": {
          "base_uri": "https://localhost:8080/",
          "height": 233
        },
        "outputId": "651a8443-3f40-4ddf-a2fa-e8b8aa22b323"
      },
      "source": [
        "# Missing values statistics\n",
        "missing_values = missing_values_table(data)\n",
        "missing_values.head(5)"
      ],
      "execution_count": 36,
      "outputs": [
        {
          "output_type": "stream",
          "text": [
            "Your selected dataframe has 122 columns.\n",
            "There are 68 columns that have missing values.\n"
          ],
          "name": "stdout"
        },
        {
          "output_type": "execute_result",
          "data": {
            "text/html": [
              "<div>\n",
              "<style scoped>\n",
              "    .dataframe tbody tr th:only-of-type {\n",
              "        vertical-align: middle;\n",
              "    }\n",
              "\n",
              "    .dataframe tbody tr th {\n",
              "        vertical-align: top;\n",
              "    }\n",
              "\n",
              "    .dataframe thead th {\n",
              "        text-align: right;\n",
              "    }\n",
              "</style>\n",
              "<table border=\"1\" class=\"dataframe\">\n",
              "  <thead>\n",
              "    <tr style=\"text-align: right;\">\n",
              "      <th></th>\n",
              "      <th>Missing Values</th>\n",
              "      <th>% of Total Values</th>\n",
              "    </tr>\n",
              "  </thead>\n",
              "  <tbody>\n",
              "    <tr>\n",
              "      <th>COMMONAREA_MODE</th>\n",
              "      <td>214865</td>\n",
              "      <td>69.9</td>\n",
              "    </tr>\n",
              "    <tr>\n",
              "      <th>COMMONAREA_AVG</th>\n",
              "      <td>214865</td>\n",
              "      <td>69.9</td>\n",
              "    </tr>\n",
              "    <tr>\n",
              "      <th>COMMONAREA_MEDI</th>\n",
              "      <td>214865</td>\n",
              "      <td>69.9</td>\n",
              "    </tr>\n",
              "    <tr>\n",
              "      <th>NONLIVINGAPARTMENTS_MEDI</th>\n",
              "      <td>213514</td>\n",
              "      <td>69.4</td>\n",
              "    </tr>\n",
              "    <tr>\n",
              "      <th>NONLIVINGAPARTMENTS_MODE</th>\n",
              "      <td>213514</td>\n",
              "      <td>69.4</td>\n",
              "    </tr>\n",
              "  </tbody>\n",
              "</table>\n",
              "</div>"
            ],
            "text/plain": [
              "                          Missing Values  % of Total Values\n",
              "COMMONAREA_MODE                   214865               69.9\n",
              "COMMONAREA_AVG                    214865               69.9\n",
              "COMMONAREA_MEDI                   214865               69.9\n",
              "NONLIVINGAPARTMENTS_MEDI          213514               69.4\n",
              "NONLIVINGAPARTMENTS_MODE          213514               69.4"
            ]
          },
          "metadata": {
            "tags": []
          },
          "execution_count": 36
        }
      ]
    },
    {
      "cell_type": "code",
      "metadata": {
        "id": "0CgOsGEzrfmB",
        "colab_type": "code",
        "colab": {
          "base_uri": "https://localhost:8080/",
          "height": 176
        },
        "outputId": "9e631fa0-b262-425a-fb74-ca62e165724e"
      },
      "source": [
        "(data['DAYS_BIRTH'] / -365).describe()"
      ],
      "execution_count": null,
      "outputs": [
        {
          "output_type": "execute_result",
          "data": {
            "text/plain": [
              "count    307511.000000\n",
              "mean         43.936973\n",
              "std          11.956133\n",
              "min          20.517808\n",
              "25%          34.008219\n",
              "50%          43.150685\n",
              "75%          53.923288\n",
              "max          69.120548\n",
              "Name: DAYS_BIRTH, dtype: float64"
            ]
          },
          "metadata": {
            "tags": []
          },
          "execution_count": 24
        }
      ]
    },
    {
      "cell_type": "markdown",
      "metadata": {
        "id": "ctvNjYBcuutX",
        "colab_type": "text"
      },
      "source": [
        "## Xem histogram"
      ]
    },
    {
      "cell_type": "code",
      "metadata": {
        "id": "G2qT6Buvs7YV",
        "colab_type": "code",
        "colab": {}
      },
      "source": [
        "import matplotlib.pyplot as plt \n",
        "import numpy as np"
      ],
      "execution_count": null,
      "outputs": []
    },
    {
      "cell_type": "code",
      "metadata": {
        "id": "xrD1c3yns4wW",
        "colab_type": "code",
        "colab": {
          "base_uri": "https://localhost:8080/",
          "height": 294
        },
        "outputId": "8446739b-0199-433a-863b-339755b964d6"
      },
      "source": [
        "data['DAYS_EMPLOYED'].plot.hist(title = 'Days Employment Histogram');\n",
        "plt.xlabel('Days Employment');"
      ],
      "execution_count": null,
      "outputs": [
        {
          "output_type": "display_data",
          "data": {
            "image/png": "[encoded data removed]",
            "text/plain": [
              "<Figure size 432x288 with 1 Axes>"
            ]
          },
          "metadata": {
            "tags": [],
            "needs_background": "light"
          }
        }
      ]
    },
    {
      "cell_type": "code",
      "metadata": {
        "id": "WBeFChWqsckf",
        "colab_type": "code",
        "colab": {
          "base_uri": "https://localhost:8080/",
          "height": 294
        },
        "outputId": "7af5e64e-630e-41a1-ebaa-f1c17b0249b3"
      },
      "source": [
        "# Replace the anomalous values with nan\n",
        "data['DAYS_EMPLOYED'].replace({365243: np.nan}, inplace = True)\n",
        "\n",
        "data['DAYS_EMPLOYED'].plot.hist(title = 'Days Employment Histogram');\n",
        "plt.xlabel('Days Employment');"
      ],
      "execution_count": null,
      "outputs": [
        {
          "output_type": "display_data",
          "data": {
            "image/png": "[encoded data removed]",
            "text/plain": [
              "<Figure size 432x288 with 1 Axes>"
            ]
          },
          "metadata": {
            "tags": [],
            "needs_background": "light"
          }
        }
      ]
    },
    {
      "cell_type": "markdown",
      "metadata": {
        "id": "KwvyR1gVu4SQ",
        "colab_type": "text"
      },
      "source": [
        "## Xem correlation giữa các biến X đối với biến Target"
      ]
    },
    {
      "cell_type": "code",
      "metadata": {
        "id": "ucFfbEiqtN8x",
        "colab_type": "code",
        "colab": {
          "base_uri": "https://localhost:8080/",
          "height": 283
        },
        "outputId": "a578c93e-e15e-4dea-d7b0-01a06c1f03cc"
      },
      "source": [
        "# Find correlations with the target and sort\n",
        "correlations = data.corr()['TARGET'].sort_values()\n",
        "\n",
        "# Display correlations\n",
        "print('Most Positive Correlations:\\n', correlations.tail(5))\n",
        "print('\\nMost Negative Correlations:\\n', correlations.head(5))"
      ],
      "execution_count": 37,
      "outputs": [
        {
          "output_type": "stream",
          "text": [
            "Most Positive Correlations:\n",
            " REGION_RATING_CLIENT           0.058899\n",
            "REGION_RATING_CLIENT_W_CITY    0.060893\n",
            "DAYS_EMPLOYED                  0.074958\n",
            "DAYS_BIRTH                     0.078239\n",
            "TARGET                         1.000000\n",
            "Name: TARGET, dtype: float64\n",
            "\n",
            "Most Negative Correlations:\n",
            " EXT_SOURCE_3     -0.178919\n",
            "EXT_SOURCE_2     -0.160472\n",
            "EXT_SOURCE_1     -0.155317\n",
            "FLOORSMAX_AVG    -0.044003\n",
            "FLOORSMAX_MEDI   -0.043768\n",
            "Name: TARGET, dtype: float64\n"
          ],
          "name": "stdout"
        }
      ]
    }
  ]
}